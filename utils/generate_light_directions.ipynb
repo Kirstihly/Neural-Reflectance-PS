{
 "cells": [
  {
   "cell_type": "code",
   "execution_count": 1,
   "id": "36b9b9a6",
   "metadata": {},
   "outputs": [],
   "source": [
    "import os\n",
    "\n",
    "import numpy as np"
   ]
  },
  {
   "cell_type": "code",
   "execution_count": 2,
   "id": "4de2f481",
   "metadata": {},
   "outputs": [],
   "source": [
    "dirname = '/home/leyinghu/Downloads/DiLiGenT/pmsData/malePNG'"
   ]
  },
  {
   "cell_type": "code",
   "execution_count": 3,
   "id": "7625a337",
   "metadata": {},
   "outputs": [],
   "source": [
    "coordinates = np.loadtxt(os.path.join(dirname, 'light_positions.txt'))"
   ]
  },
  {
   "cell_type": "code",
   "execution_count": 4,
   "id": "b7520e9f",
   "metadata": {},
   "outputs": [],
   "source": [
    "new_coords = np.zeros(coordinates.shape)\n",
    "new_coords[:, 0] = - coordinates[:, 0]\n",
    "new_coords[:, 1] = coordinates[:, 2]\n",
    "new_coords[:, 2] = coordinates[:, 1]"
   ]
  },
  {
   "cell_type": "code",
   "execution_count": 5,
   "id": "ddc82573",
   "metadata": {},
   "outputs": [],
   "source": [
    "np.savetxt(os.path.join(dirname, 'light_directions.txt'), new_coords, fmt='%.4f')"
   ]
  },
  {
   "cell_type": "code",
   "execution_count": null,
   "id": "988ecd98",
   "metadata": {},
   "outputs": [],
   "source": []
  }
 ],
 "metadata": {
  "kernelspec": {
   "display_name": "Python 3 (ipykernel)",
   "language": "python",
   "name": "python3"
  },
  "language_info": {
   "codemirror_mode": {
    "name": "ipython",
    "version": 3
   },
   "file_extension": ".py",
   "mimetype": "text/x-python",
   "name": "python",
   "nbconvert_exporter": "python",
   "pygments_lexer": "ipython3",
   "version": "3.8.10"
  }
 },
 "nbformat": 4,
 "nbformat_minor": 5
}
