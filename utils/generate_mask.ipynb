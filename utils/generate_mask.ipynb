{
 "cells": [
  {
   "cell_type": "code",
   "execution_count": 1,
   "id": "9d41a9b6",
   "metadata": {},
   "outputs": [],
   "source": [
    "import cv2, os\n",
    "\n",
    "import numpy as np"
   ]
  },
  {
   "cell_type": "code",
   "execution_count": 2,
   "id": "b8578f40",
   "metadata": {},
   "outputs": [],
   "source": [
    "dirname = '/home/leyinghu/Downloads/DiLiGenT/pmsData/malePNG'"
   ]
  },
  {
   "cell_type": "code",
   "execution_count": 3,
   "id": "70c39dc0",
   "metadata": {},
   "outputs": [],
   "source": [
    "seg = cv2.imread(os.path.join(dirname, 'segmentation_00000.png'))"
   ]
  },
  {
   "cell_type": "code",
   "execution_count": 4,
   "id": "f25dba8b",
   "metadata": {},
   "outputs": [],
   "source": [
    "assert seg.shape[2] == 3\n",
    "bg = seg[:,:,0] + seg[:,:,1] + seg[:,:,2]"
   ]
  },
  {
   "cell_type": "code",
   "execution_count": 5,
   "id": "c9f72f21",
   "metadata": {},
   "outputs": [
    {
     "data": {
      "text/plain": [
       "True"
      ]
     },
     "execution_count": 5,
     "metadata": {},
     "output_type": "execute_result"
    }
   ],
   "source": [
    "mask = np.zeros(bg.shape)\n",
    "mask[bg==0] = 255\n",
    "cv2.imwrite(os.path.join(dirname, 'mask.png'), mask)"
   ]
  },
  {
   "cell_type": "code",
   "execution_count": null,
   "id": "b30efec4",
   "metadata": {},
   "outputs": [],
   "source": []
  }
 ],
 "metadata": {
  "kernelspec": {
   "display_name": "Python 3 (ipykernel)",
   "language": "python",
   "name": "python3"
  },
  "language_info": {
   "codemirror_mode": {
    "name": "ipython",
    "version": 3
   },
   "file_extension": ".py",
   "mimetype": "text/x-python",
   "name": "python",
   "nbconvert_exporter": "python",
   "pygments_lexer": "ipython3",
   "version": "3.8.10"
  }
 },
 "nbformat": 4,
 "nbformat_minor": 5
}
