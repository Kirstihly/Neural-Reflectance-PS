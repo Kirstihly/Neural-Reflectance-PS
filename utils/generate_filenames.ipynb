{
 "cells": [
  {
   "cell_type": "code",
   "execution_count": 1,
   "id": "5b80978b",
   "metadata": {},
   "outputs": [],
   "source": [
    "import glob, os"
   ]
  },
  {
   "cell_type": "code",
   "execution_count": 2,
   "id": "5d1b59d5",
   "metadata": {},
   "outputs": [],
   "source": [
    "dirname = '/home/leyinghu/Downloads/DiLiGenT/pmsData/malePNG'"
   ]
  },
  {
   "cell_type": "code",
   "execution_count": 3,
   "id": "40cfc4a7",
   "metadata": {},
   "outputs": [],
   "source": [
    "rgbas = glob.glob(os.path.join(dirname, 'rgba_*.png'))\n",
    "rgbas.sort()\n",
    "assert len(rgbas) == 96"
   ]
  },
  {
   "cell_type": "code",
   "execution_count": 4,
   "id": "1c9b0576",
   "metadata": {},
   "outputs": [],
   "source": [
    "filenames = []\n",
    "for i in range(96):\n",
    "    filename = os.path.basename(rgbas[i])[-7:]\n",
    "    os.rename(rgbas[i], os.path.join(dirname, filename))\n",
    "    filenames.append(filename)"
   ]
  },
  {
   "cell_type": "code",
   "execution_count": 5,
   "id": "d59bd0b2",
   "metadata": {},
   "outputs": [],
   "source": [
    "with open(os.path.join(dirname, 'filenames.txt'), 'w') as fp:\n",
    "    fp.write('\\n'.join(filenames))"
   ]
  }
 ],
 "metadata": {
  "kernelspec": {
   "display_name": "Python 3 (ipykernel)",
   "language": "python",
   "name": "python3"
  },
  "language_info": {
   "codemirror_mode": {
    "name": "ipython",
    "version": 3
   },
   "file_extension": ".py",
   "mimetype": "text/x-python",
   "name": "python",
   "nbconvert_exporter": "python",
   "pygments_lexer": "ipython3",
   "version": "3.8.10"
  }
 },
 "nbformat": 4,
 "nbformat_minor": 5
}
